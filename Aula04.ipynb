{
  "nbformat": 4,
  "nbformat_minor": 0,
  "metadata": {
    "colab": {
      "name": "Aula04.ipynb",
      "provenance": [],
      "authorship_tag": "ABX9TyOFgaLFin7ICdVHIrbghPGg",
      "include_colab_link": true
    },
    "kernelspec": {
      "name": "python3",
      "display_name": "Python 3"
    },
    "language_info": {
      "name": "python"
    }
  },
  "cells": [
    {
      "cell_type": "markdown",
      "metadata": {
        "id": "view-in-github",
        "colab_type": "text"
      },
      "source": [
        "<a href=\"https://colab.research.google.com/github/josevitor676/aula04_meu_primeiro_codigo_python/blob/main/Aula04.ipynb\" target=\"_parent\"><img src=\"https://colab.research.google.com/assets/colab-badge.svg\" alt=\"Open In Colab\"/></a>"
      ]
    },
    {
      "cell_type": "markdown",
      "source": [
        "# Esse é meu primeiro codigo em python\n",
        "## Semelhança com pseudo-codigo\n"
      ],
      "metadata": {
        "id": "J513KOwbBd2k"
      }
    },
    {
      "cell_type": "code",
      "execution_count": null,
      "metadata": {
        "id": "Y8BH_AHYBLuc"
      },
      "outputs": [],
      "source": [
        "x = 5\n",
        "if x == 5:\n",
        "  y = 0\n",
        "  while y < 4:\n",
        "    print(\"Valor de y é: \", y)\n",
        "    print(\"\\n\") # pula linha \n",
        "    print(x)\n",
        "    y = y +1 # incrementa o y \n",
        "    "
      ]
    },
    {
      "cell_type": "markdown",
      "source": [
        "# Ctrl + / ou ; comenta uma parte do código\n",
        "\n",
        "## Qual o tipo de variavel ?\n",
        "\n",
        "### \n",
        "\n",
        "## Voltando para semelhança com pseudo-código\n",
        "\n"
      ],
      "metadata": {
        "id": "ashFzEg9F6O7"
      }
    },
    {
      "cell_type": "code",
      "source": [
        "type(x) # é uma função que devolve o tipo da minha variavel\n",
        "type('x')\n",
        "\n"
      ],
      "metadata": {
        "id": "vKBxWneKG1jr"
      },
      "execution_count": null,
      "outputs": []
    },
    {
      "cell_type": "code",
      "source": [
        "for i in [5,6,7,8,9]:\n",
        "  print(i)"
      ],
      "metadata": {
        "id": "DQstU-NoIm-s"
      },
      "execution_count": null,
      "outputs": []
    },
    {
      "cell_type": "code",
      "source": [
        "for i in range(10):\n",
        "  print(i)"
      ],
      "metadata": {
        "id": "smN7p2y6I_NG"
      },
      "execution_count": null,
      "outputs": []
    },
    {
      "cell_type": "code",
      "source": [
        "for i in range(5,10):\n",
        "  print(i)"
      ],
      "metadata": {
        "id": "vweLzy96JdpW"
      },
      "execution_count": null,
      "outputs": []
    },
    {
      "cell_type": "code",
      "source": [
        "for i in range(5,10,2):\n",
        "  print(i)"
      ],
      "metadata": {
        "id": "zhDpbljaJ4rc"
      },
      "execution_count": null,
      "outputs": []
    },
    {
      "cell_type": "code",
      "source": [
        "x = 5\n",
        "if x == 5:\n",
        "  y = 0\n",
        "  while y < 4:\n",
        "    print(\"Valor de y é: \", y)\n",
        "    print(\"\\n\")\n",
        "    print(x)\n",
        "    print(\"\\n\")\n",
        "    y = y  +1\n",
        "    print(\"\\n\")\n",
        "\n",
        "    for i in [5,6,7,8,9]:\n",
        "      print(i)\n",
        "      print(\"\\n\")\n",
        "\n",
        "    for i in range(10):\n",
        "      print(i)\n",
        "      print(\"\\n\")\n",
        "\n",
        "    for i in range(5,10):\n",
        "      print(i)\n",
        "      print(\"\\n\")\n",
        "\n",
        "    for i in range(5,10,2):\n",
        "      print(i) \n",
        "      print(\"\\n\")      "
      ],
      "metadata": {
        "id": "5lG5Xxs2KDR9"
      },
      "execution_count": null,
      "outputs": []
    },
    {
      "cell_type": "markdown",
      "source": [
        "## Input()"
      ],
      "metadata": {
        "id": "uOpjMYNLNoQk"
      }
    },
    {
      "cell_type": "code",
      "source": [
        "x = input(\"escreva o seu nome: \") # o input pede a entrada de um novo fornecido pelo o usuario\n",
        "print(\"o nome digitado foi: \", x)\n"
      ],
      "metadata": {
        "id": "WEGuYJxfNxrR",
        "outputId": "34305079-82bc-482c-c26a-cfdfb7f5d745",
        "colab": {
          "base_uri": "https://localhost:8080/"
        }
      },
      "execution_count": null,
      "outputs": [
        {
          "output_type": "stream",
          "name": "stdout",
          "text": [
            "escreva o seu nome: jose vitor\n",
            "o nome digitado foi:  jose vitor\n"
          ]
        }
      ]
    },
    {
      "cell_type": "markdown",
      "source": [
        "#Exercicio 1\n",
        "1.\tFAÇA UM PROGRAMA QUE LEIA UM NÚMERO INTEIRO E O IMPRIMA."
      ],
      "metadata": {
        "id": "aSD5yVOxO4iW"
      }
    },
    {
      "cell_type": "code",
      "source": [
        "x = int(input(\"Digite um Número Inteiro\"))\n",
        "if type(x) == int:\n",
        "  print(\"Você digitou um número inteiro\", x)\n"
      ],
      "metadata": {
        "id": "dTodQ7CCO8Yu"
      },
      "execution_count": null,
      "outputs": []
    },
    {
      "cell_type": "markdown",
      "source": [
        "#Exercicio 2\n",
        "##2.\tFAÇA UM PROGRAMA QUE LEIA UM NÚMERO REAL E O IMPRIMA."
      ],
      "metadata": {
        "id": "in_KtBoCPnWB"
      }
    },
    {
      "cell_type": "code",
      "source": [
        "numReal = float(input(\"Digite um número\"))\n",
        "if type(numReal) == float:\n",
        "  print(\"Você digitou um numero float\", numReal)"
      ],
      "metadata": {
        "id": "jDYhv2qTPtYn",
        "outputId": "72f44dc7-64b1-433d-c0b0-7889f466db8c",
        "colab": {
          "base_uri": "https://localhost:8080/"
        }
      },
      "execution_count": null,
      "outputs": [
        {
          "output_type": "stream",
          "name": "stdout",
          "text": [
            "Digite um número6.7\n",
            "Você digitou um numero float 6.7\n"
          ]
        }
      ]
    },
    {
      "cell_type": "markdown",
      "source": [
        "#Exercicio 03\n"
      ],
      "metadata": {
        "id": "6epFeSaKrJq_"
      }
    },
    {
      "cell_type": "code",
      "source": [
        "num1 = int(input(\"digite um numero \"))\n",
        "num2 = int(input(\"digite um numero \"))\n",
        "num3 = int(input(\"digite um numero \"))\n",
        "\n",
        "soma = num1 + num2 + num3\n",
        "print('A soma dos numeros digitados resultou em:', soma)"
      ],
      "metadata": {
        "id": "BzMo-yKNrU-m"
      },
      "execution_count": null,
      "outputs": []
    },
    {
      "cell_type": "markdown",
      "source": [
        "#Exercicio 04"
      ],
      "metadata": {
        "id": "0mDiDBADsIV2"
      }
    },
    {
      "cell_type": "code",
      "source": [
        "num1 = int(input(\"digite um numero \"))\n",
        "\n",
        "result = num1 ** 2\n",
        "print(f\"O quadrado do numero {num1} resultou em:\", result)"
      ],
      "metadata": {
        "id": "3NrMCVlDsHxw"
      },
      "execution_count": null,
      "outputs": []
    },
    {
      "cell_type": "markdown",
      "source": [
        "#Exercicio 05"
      ],
      "metadata": {
        "id": "SGvtYHqPscX3"
      }
    },
    {
      "cell_type": "code",
      "source": [
        "num1 = int(input(\"digite um numero \"))\n",
        "\n",
        "result = num1 / 5\n",
        "print(f\"A quinta parte  do numero {num1} resultou em:\", result)"
      ],
      "metadata": {
        "id": "oG-dFJQVsgEe"
      },
      "execution_count": null,
      "outputs": []
    },
    {
      "cell_type": "markdown",
      "source": [
        "#Exercicio 06"
      ],
      "metadata": {
        "id": "4A9QvLvmsrnY"
      }
    },
    {
      "cell_type": "code",
      "source": [
        "num1 = int(input(\"digite um numero \"))\n",
        "\n",
        "result = (num1 * 1.8 + 32)\n",
        "print(f\"A Temperatura em Celsius convertida para Fahrenheit resultou em:\", round(result,2))\n"
      ],
      "metadata": {
        "id": "EfZcI-t4suSW"
      },
      "execution_count": null,
      "outputs": []
    },
    {
      "cell_type": "markdown",
      "source": [
        "#Exercicio 07"
      ],
      "metadata": {
        "id": "sNs5M1M7s3oo"
      }
    },
    {
      "cell_type": "code",
      "source": [
        "num1 = int(input(\"digite um numero \"))\n",
        "\n",
        "result = (num1 - 273.15)\n",
        "print(f\"A Temperatura em Kelvin convertida para Celsius resultou em:\", round(result,2))"
      ],
      "metadata": {
        "id": "qLdkPjW-s6w3"
      },
      "execution_count": null,
      "outputs": []
    },
    {
      "cell_type": "markdown",
      "source": [
        "#Exercicio 08"
      ],
      "metadata": {
        "id": "fUxRqa1ytMGh"
      }
    },
    {
      "cell_type": "code",
      "source": [
        "num1 = int(input(\"digite um numero \"))\n",
        "\n",
        "result = (num1 + 273.15)\n",
        "print(f\"A Temperatura em Celsius convertida para Kelvin resultou em:\", round(result,3))"
      ],
      "metadata": {
        "id": "di2EHeNrtQz2"
      },
      "execution_count": null,
      "outputs": []
    },
    {
      "cell_type": "markdown",
      "source": [
        "#Exercicio 09"
      ],
      "metadata": {
        "id": "ivdlgxpDuWjP"
      }
    },
    {
      "cell_type": "code",
      "source": [
        "num1 = int(input(\"digite um numero \"))\n",
        "\n",
        "result = num1 * 2.54\n",
        "\n",
        "print(f\"A conversão de {num1} em polegadas para centimetro resultou em:\", result)"
      ],
      "metadata": {
        "id": "bOQiiVMvuYhW"
      },
      "execution_count": null,
      "outputs": []
    },
    {
      "cell_type": "markdown",
      "source": [
        "#Exercicio 10"
      ],
      "metadata": {
        "id": "PwnnJ_I1uibX"
      }
    },
    {
      "cell_type": "code",
      "source": [
        "num1 = int(input(\"digite um numero \"))\n",
        "num2 = int(input(\"digite um numero \"))\n",
        "num3 = int(input(\"digite um numero \"))\n",
        "\n",
        "result1 = num1 ** 2\n",
        "result2 = num2 ** 2\n",
        "result3 = num3 ** 2\n",
        "\n",
        "soma = result1 + result2 + result3\n",
        "print(f\"A soma de todos os quadrados resultou em:\", soma)"
      ],
      "metadata": {
        "id": "VG84O4-NulTn"
      },
      "execution_count": null,
      "outputs": []
    },
    {
      "cell_type": "markdown",
      "source": [
        "#Exercicio 11"
      ],
      "metadata": {
        "id": "P8PVFgH2uyJG"
      }
    },
    {
      "cell_type": "code",
      "source": [
        "num1 = int(input(\"digite um numero \"))\n",
        "num2 = int(input(\"digite um numero \"))\n",
        "num3 = int(input(\"digite um numero \"))\n",
        "num4 = int(input(\"digite um numero \"))\n",
        "\n",
        "result = (num1 + num2 + num3 + num4) / 4\n",
        "\n",
        "print(f\"A média aritmética resultou em:\", result)"
      ],
      "metadata": {
        "id": "JuAZ1cFWu07e"
      },
      "execution_count": null,
      "outputs": []
    },
    {
      "cell_type": "markdown",
      "source": [
        "#Exercicio 12"
      ],
      "metadata": {
        "id": "o_npxzBTvAk3"
      }
    },
    {
      "cell_type": "code",
      "source": [
        "num1 = int(input(\"digite um numero\"))\n",
        "\n",
        "atnNum = num1 - 1\n",
        "suceNum = num1 + 1 \n",
        "print(f\"O número digitado foi {num1} seu antecessor é {atnNum} e seu sucessor é {suceNum} \")"
      ],
      "metadata": {
        "id": "IBFWitivvZDQ"
      },
      "execution_count": null,
      "outputs": []
    },
    {
      "cell_type": "markdown",
      "source": [
        "#Exercicio 13"
      ],
      "metadata": {
        "id": "gBclSxmuv4Vm"
      }
    },
    {
      "cell_type": "code",
      "source": [
        "num1 = int(input(\"digite um numero \"))\n",
        "\n",
        "numanterior = (num1 + 1) * 3\n",
        "numsucecessor = (num1 - 1) * 2\n",
        "\n",
        "print(f\"O resultado da operação é {numanterior + numsucecessor}\")"
      ],
      "metadata": {
        "id": "NPVuhLTMv7Id"
      },
      "execution_count": null,
      "outputs": []
    },
    {
      "cell_type": "markdown",
      "source": [
        "#Exercicio 14"
      ],
      "metadata": {
        "id": "TnMrVpO_xiRf"
      }
    },
    {
      "cell_type": "code",
      "source": [
        "num1 = int(input(\"digite o lado do quadrado \"))\n",
        "\n",
        "area = num1 * num1\n",
        "\n",
        "print(f\"A area do quadro é {area}\")"
      ],
      "metadata": {
        "id": "muApoeOPxkRG"
      },
      "execution_count": null,
      "outputs": []
    },
    {
      "cell_type": "markdown",
      "source": [
        "#Exercicio 15\n"
      ],
      "metadata": {
        "id": "qtFeHv6Q1vh9"
      }
    },
    {
      "cell_type": "code",
      "source": [
        "num1 = int(input(\"digite o valor do produto \"))\n",
        "\n",
        "valorDesconto = (12/100) * (num1)\n",
        "\n",
        "valorFinal = num1 - valorDesconto\n",
        "\n",
        "print(f\"O valor final do produto ficou em {valorFinal}\")"
      ],
      "metadata": {
        "id": "PL-JXhaI13mv"
      },
      "execution_count": null,
      "outputs": []
    },
    {
      "cell_type": "markdown",
      "source": [
        "#Exercicio 16"
      ],
      "metadata": {
        "id": "enhsZrfTxzTB"
      }
    },
    {
      "cell_type": "code",
      "source": [
        "salario = int(input(\"Digite seu salario \"))\n",
        "\n",
        "salarioAumentado = (25 / 100) * salario\n",
        "\n",
        "print(f\"O seu novo salario é de {salarioAumentado + salario}\")"
      ],
      "metadata": {
        "colab": {
          "base_uri": "https://localhost:8080/"
        },
        "id": "bDDZu1_xx05n",
        "outputId": "07967c75-3f91-4dc6-b11c-09fd0da8100c"
      },
      "execution_count": 26,
      "outputs": [
        {
          "output_type": "stream",
          "name": "stdout",
          "text": [
            "Digite seu salario 500\n",
            "O seu novo salario é de 625.0\n"
          ]
        }
      ]
    },
    {
      "cell_type": "markdown",
      "source": [
        "#Exercio17\n"
      ],
      "metadata": {
        "id": "y6F5V7kJ1fUe"
      }
    },
    {
      "cell_type": "code",
      "source": [
        "num1 = int(input(\"digite o valor da hora de trabalho em reais \"))\n",
        "num2 = int(input(\"digite o numero de horas trabalhadas no mês \"))\n",
        "\n",
        "valorSerPago = num1 * num2\n",
        "\n",
        "valorAcrescimo = (10/100) * (valorSerPago)\n",
        "\n",
        "salarioFinal = valorSerPago + valorAcrescimo\n",
        "\n",
        "print(f\"O salario final será {salarioFinal}\")"
      ],
      "metadata": {
        "id": "uK_6waDr1ize"
      },
      "execution_count": null,
      "outputs": []
    },
    {
      "cell_type": "markdown",
      "source": [
        "#Exercicio 18"
      ],
      "metadata": {
        "id": "h3-vZzU1znUh"
      }
    },
    {
      "cell_type": "code",
      "source": [
        "import datetime\n",
        "\n",
        "dataAtual = datetime.datetime.now() \n",
        "idade = int(input(\"Digite sua idade \"))\n",
        "\n",
        "anoNasc = dataAtual.year - idade\n",
        "\n",
        "print(f\"O ano do seu nascimento é {anoNasc}\")"
      ],
      "metadata": {
        "id": "kTUCVhwEzpO2"
      },
      "execution_count": null,
      "outputs": []
    },
    {
      "cell_type": "markdown",
      "source": [
        "#Exercicio 20\n"
      ],
      "metadata": {
        "id": "uYvS04s22ZGu"
      }
    },
    {
      "cell_type": "code",
      "source": [
        "salarioBase = int(input(\"Digite seu salario base \"))\n",
        "\n",
        "salBaseAumentado = (5 / 100) * salarioBase\n",
        "salarioDesconto = (7/100) * salarioBase\n",
        "\n",
        "print(f\"seu salario atual é de: R$ {(salarioBase + salBaseAumentado) - salarioDesconto}\")\n"
      ],
      "metadata": {
        "id": "935O7b-12cbO"
      },
      "execution_count": null,
      "outputs": []
    },
    {
      "cell_type": "markdown",
      "source": [
        "#Exercicio 21"
      ],
      "metadata": {
        "id": "9jPYd26J5OpV"
      }
    },
    {
      "cell_type": "code",
      "source": [
        "num1 = int(input(\"Digite um numero \"))\n",
        "num2 = int(input(\"Digite outro numero \"))\n",
        "\n",
        "if num1 > num2:\n",
        "    print(num1)\n",
        "else:\n",
        "    print(num2)"
      ],
      "metadata": {
        "id": "wbaDWq0s5Qn9"
      },
      "execution_count": null,
      "outputs": []
    }
  ]
}