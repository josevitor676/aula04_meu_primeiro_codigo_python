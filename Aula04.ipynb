{
  "nbformat": 4,
  "nbformat_minor": 0,
  "metadata": {
    "colab": {
      "name": "Aula04.ipynb",
      "provenance": [],
      "authorship_tag": "ABX9TyNNt98KREuR240I6eePm6kg",
      "include_colab_link": true
    },
    "kernelspec": {
      "name": "python3",
      "display_name": "Python 3"
    },
    "language_info": {
      "name": "python"
    }
  },
  "cells": [
    {
      "cell_type": "markdown",
      "metadata": {
        "id": "view-in-github",
        "colab_type": "text"
      },
      "source": [
        "<a href=\"https://colab.research.google.com/github/josevitor676/aula04_meu_primeiro_codigo_python/blob/main/Aula04.ipynb\" target=\"_parent\"><img src=\"https://colab.research.google.com/assets/colab-badge.svg\" alt=\"Open In Colab\"/></a>"
      ]
    },
    {
      "cell_type": "markdown",
      "source": [
        "# Esse é meu primeiro codigo em python\n",
        "## Semelhança com pseudo-codigo\n"
      ],
      "metadata": {
        "id": "J513KOwbBd2k"
      }
    },
    {
      "cell_type": "code",
      "execution_count": null,
      "metadata": {
        "id": "Y8BH_AHYBLuc"
      },
      "outputs": [],
      "source": [
        "x = 5\n",
        "if x == 5:\n",
        "  y = 0\n",
        "  while y < 4:\n",
        "    print(\"Valor de y é: \", y)\n",
        "    print(\"\\n\") # pula linha \n",
        "    print(x)\n",
        "    y = y +1 # incrementa o y \n",
        "    "
      ]
    },
    {
      "cell_type": "markdown",
      "source": [
        "# Ctrl + / ou ; comenta uma parte do código\n",
        "\n",
        "## Qual o tipo de variavel ?\n",
        "\n",
        "### \n",
        "\n",
        "## Voltando para semelhança com pseudo-código\n",
        "\n"
      ],
      "metadata": {
        "id": "ashFzEg9F6O7"
      }
    },
    {
      "cell_type": "code",
      "source": [
        "type(x) # é uma função que devolve o tipo da minha variavel\n",
        "type('x')\n",
        "\n"
      ],
      "metadata": {
        "id": "vKBxWneKG1jr"
      },
      "execution_count": null,
      "outputs": []
    },
    {
      "cell_type": "code",
      "source": [
        "for i in [5,6,7,8,9]:\n",
        "  print(i)"
      ],
      "metadata": {
        "id": "DQstU-NoIm-s"
      },
      "execution_count": null,
      "outputs": []
    },
    {
      "cell_type": "code",
      "source": [
        "for i in range(10):\n",
        "  print(i)"
      ],
      "metadata": {
        "id": "smN7p2y6I_NG"
      },
      "execution_count": null,
      "outputs": []
    },
    {
      "cell_type": "code",
      "source": [
        "for i in range(5,10):\n",
        "  print(i)"
      ],
      "metadata": {
        "id": "vweLzy96JdpW"
      },
      "execution_count": null,
      "outputs": []
    },
    {
      "cell_type": "code",
      "source": [
        "for i in range(5,10,2):\n",
        "  print(i)"
      ],
      "metadata": {
        "id": "zhDpbljaJ4rc"
      },
      "execution_count": null,
      "outputs": []
    },
    {
      "cell_type": "code",
      "source": [
        "x = 5\n",
        "if x == 5:\n",
        "  y = 0\n",
        "  while y < 4:\n",
        "    print(\"Valor de y é: \", y)\n",
        "    print(\"\\n\")\n",
        "    print(x)\n",
        "    print(\"\\n\")\n",
        "    y = y  +1\n",
        "    print(\"\\n\")\n",
        "\n",
        "    for i in [5,6,7,8,9]:\n",
        "      print(i)\n",
        "      print(\"\\n\")\n",
        "\n",
        "    for i in range(10):\n",
        "      print(i)\n",
        "      print(\"\\n\")\n",
        "\n",
        "    for i in range(5,10):\n",
        "      print(i)\n",
        "      print(\"\\n\")\n",
        "\n",
        "    for i in range(5,10,2):\n",
        "      print(i) \n",
        "      print(\"\\n\")      "
      ],
      "metadata": {
        "id": "5lG5Xxs2KDR9"
      },
      "execution_count": null,
      "outputs": []
    },
    {
      "cell_type": "markdown",
      "source": [
        "## Input()"
      ],
      "metadata": {
        "id": "uOpjMYNLNoQk"
      }
    },
    {
      "cell_type": "code",
      "source": [
        "x = input(\"escreva o seu nome: \") # o input pede a entrada de um novo fornecido pelo o usuario\n",
        "print(\"o nome digitado foi: \", x)\n"
      ],
      "metadata": {
        "id": "WEGuYJxfNxrR",
        "outputId": "34305079-82bc-482c-c26a-cfdfb7f5d745",
        "colab": {
          "base_uri": "https://localhost:8080/"
        }
      },
      "execution_count": 11,
      "outputs": [
        {
          "output_type": "stream",
          "name": "stdout",
          "text": [
            "escreva o seu nome: jose vitor\n",
            "o nome digitado foi:  jose vitor\n"
          ]
        }
      ]
    },
    {
      "cell_type": "markdown",
      "source": [
        "#Exercicio 1\n",
        "1.\tFAÇA UM PROGRAMA QUE LEIA UM NÚMERO INTEIRO E O IMPRIMA."
      ],
      "metadata": {
        "id": "aSD5yVOxO4iW"
      }
    },
    {
      "cell_type": "code",
      "source": [
        "x = int(input(\"Digite um Número Inteiro\"))\n",
        "if type(x) == int:\n",
        "  print(\"Você digitou um número inteiro\", x)\n"
      ],
      "metadata": {
        "id": "dTodQ7CCO8Yu"
      },
      "execution_count": null,
      "outputs": []
    },
    {
      "cell_type": "markdown",
      "source": [
        "#Exercicio 2\n",
        "##2.\tFAÇA UM PROGRAMA QUE LEIA UM NÚMERO REAL E O IMPRIMA."
      ],
      "metadata": {
        "id": "in_KtBoCPnWB"
      }
    },
    {
      "cell_type": "code",
      "source": [
        "numReal = float(input(\"Digite um número\"))\n",
        "if type(numReal) == float:\n",
        "  print(\"Você digitou um numero float\", numReal)"
      ],
      "metadata": {
        "id": "jDYhv2qTPtYn",
        "outputId": "72f44dc7-64b1-433d-c0b0-7889f466db8c",
        "colab": {
          "base_uri": "https://localhost:8080/"
        }
      },
      "execution_count": 24,
      "outputs": [
        {
          "output_type": "stream",
          "name": "stdout",
          "text": [
            "Digite um número6.7\n",
            "Você digitou um numero float 6.7\n"
          ]
        }
      ]
    }
  ]
}