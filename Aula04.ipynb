{
  "nbformat": 4,
  "nbformat_minor": 0,
  "metadata": {
    "colab": {
      "name": "Aula04.ipynb",
      "provenance": [],
      "authorship_tag": "ABX9TyNeoKnEjEX6LHSxALV7dbWy",
      "include_colab_link": true
    },
    "kernelspec": {
      "name": "python3",
      "display_name": "Python 3"
    },
    "language_info": {
      "name": "python"
    }
  },
  "cells": [
    {
      "cell_type": "markdown",
      "metadata": {
        "id": "view-in-github",
        "colab_type": "text"
      },
      "source": [
        "<a href=\"https://colab.research.google.com/github/josevitor676/aula04_meu_primeiro_codigo_python/blob/main/Aula04.ipynb\" target=\"_parent\"><img src=\"https://colab.research.google.com/assets/colab-badge.svg\" alt=\"Open In Colab\"/></a>"
      ]
    },
    {
      "cell_type": "markdown",
      "source": [
        "# Esse é meu primeiro codigo em python\n",
        "## Semelhança com pseudo-codigo\n"
      ],
      "metadata": {
        "id": "J513KOwbBd2k"
      }
    },
    {
      "cell_type": "code",
      "execution_count": null,
      "metadata": {
        "id": "Y8BH_AHYBLuc"
      },
      "outputs": [],
      "source": [
        "x = 5\n",
        "if x == 5:\n",
        "  y = 0\n",
        "  while y < 4:\n",
        "    print(\"Valor de y é: \", y)\n",
        "    print(\"\\n\") # pula linha \n",
        "    print(x)\n",
        "    y = y +1 # incrementa o y \n",
        "    "
      ]
    },
    {
      "cell_type": "markdown",
      "source": [
        "# Ctrl + / ou ; comenta uma parte do código\n",
        "\n",
        "## Qual o tipo de variavel ?\n",
        "\n",
        "### \n",
        "\n",
        "## Voltando para semelhança com pseudo-código\n",
        "\n"
      ],
      "metadata": {
        "id": "ashFzEg9F6O7"
      }
    },
    {
      "cell_type": "code",
      "source": [
        "type(x) # é uma função que devolve o tipo da minha variavel\n",
        "type('x')\n",
        "\n"
      ],
      "metadata": {
        "id": "vKBxWneKG1jr"
      },
      "execution_count": null,
      "outputs": []
    },
    {
      "cell_type": "code",
      "source": [
        "for i in [5,6,7,8,9]:\n",
        "  print(i)"
      ],
      "metadata": {
        "id": "DQstU-NoIm-s"
      },
      "execution_count": null,
      "outputs": []
    },
    {
      "cell_type": "code",
      "source": [
        "for i in range(10):\n",
        "  print(i)"
      ],
      "metadata": {
        "id": "smN7p2y6I_NG"
      },
      "execution_count": null,
      "outputs": []
    },
    {
      "cell_type": "code",
      "source": [
        "for i in range(5,10):\n",
        "  print(i)"
      ],
      "metadata": {
        "id": "vweLzy96JdpW"
      },
      "execution_count": null,
      "outputs": []
    },
    {
      "cell_type": "code",
      "source": [
        "for i in range(5,10,2):\n",
        "  print(i)"
      ],
      "metadata": {
        "id": "zhDpbljaJ4rc"
      },
      "execution_count": null,
      "outputs": []
    },
    {
      "cell_type": "code",
      "source": [
        "x = 5\n",
        "if x == 5:\n",
        "  y = 0\n",
        "  while y < 4:\n",
        "    print(\"Valor de y é: \", y)\n",
        "    print(\"\\n\")\n",
        "    print(x)\n",
        "    print(\"\\n\")\n",
        "    y = y  +1\n",
        "    print(\"\\n\")\n",
        "\n",
        "    for i in [5,6,7,8,9]:\n",
        "      print(i)\n",
        "      print(\"\\n\")\n",
        "\n",
        "    for i in range(10):\n",
        "      print(i)\n",
        "      print(\"\\n\")\n",
        "\n",
        "    for i in range(5,10):\n",
        "      print(i)\n",
        "      print(\"\\n\")\n",
        "\n",
        "    for i in range(5,10,2):\n",
        "      print(i) \n",
        "      print(\"\\n\")      "
      ],
      "metadata": {
        "id": "5lG5Xxs2KDR9"
      },
      "execution_count": null,
      "outputs": []
    },
    {
      "cell_type": "markdown",
      "source": [
        "## Input()"
      ],
      "metadata": {
        "id": "uOpjMYNLNoQk"
      }
    },
    {
      "cell_type": "code",
      "source": [
        "x = input(\"escreva o seu nome: \") # o input pede a entrada de um novo fornecido pelo o usuario\n",
        "print(\"o nome digitado foi: \", x)\n"
      ],
      "metadata": {
        "id": "WEGuYJxfNxrR",
        "outputId": "34305079-82bc-482c-c26a-cfdfb7f5d745",
        "colab": {
          "base_uri": "https://localhost:8080/"
        }
      },
      "execution_count": null,
      "outputs": [
        {
          "output_type": "stream",
          "name": "stdout",
          "text": [
            "escreva o seu nome: jose vitor\n",
            "o nome digitado foi:  jose vitor\n"
          ]
        }
      ]
    },
    {
      "cell_type": "markdown",
      "source": [
        "#Exercicio 1\n",
        "1.\tFAÇA UM PROGRAMA QUE LEIA UM NÚMERO INTEIRO E O IMPRIMA."
      ],
      "metadata": {
        "id": "aSD5yVOxO4iW"
      }
    },
    {
      "cell_type": "code",
      "source": [
        "x = int(input(\"Digite um Número Inteiro\"))\n",
        "if type(x) == int:\n",
        "  print(\"Você digitou um número inteiro\", x)\n"
      ],
      "metadata": {
        "id": "dTodQ7CCO8Yu"
      },
      "execution_count": null,
      "outputs": []
    },
    {
      "cell_type": "markdown",
      "source": [
        "#Exercicio 2\n",
        "##2.\tFAÇA UM PROGRAMA QUE LEIA UM NÚMERO REAL E O IMPRIMA."
      ],
      "metadata": {
        "id": "in_KtBoCPnWB"
      }
    },
    {
      "cell_type": "code",
      "source": [
        "numReal = float(input(\"Digite um número\"))\n",
        "if type(numReal) == float:\n",
        "  print(\"Você digitou um numero float\", numReal)"
      ],
      "metadata": {
        "id": "jDYhv2qTPtYn",
        "outputId": "72f44dc7-64b1-433d-c0b0-7889f466db8c",
        "colab": {
          "base_uri": "https://localhost:8080/"
        }
      },
      "execution_count": null,
      "outputs": [
        {
          "output_type": "stream",
          "name": "stdout",
          "text": [
            "Digite um número6.7\n",
            "Você digitou um numero float 6.7\n"
          ]
        }
      ]
    },
    {
      "cell_type": "markdown",
      "source": [
        "#Exercicio 03\n"
      ],
      "metadata": {
        "id": "6epFeSaKrJq_"
      }
    },
    {
      "cell_type": "code",
      "source": [
        "num1 = int(input(\"digite um numero \"))\n",
        "num2 = int(input(\"digite um numero \"))\n",
        "num3 = int(input(\"digite um numero \"))\n",
        "\n",
        "soma = num1 + num2 + num3\n",
        "print(f'A soma dos numeros digitados resultou em: {soma}')"
      ],
      "metadata": {
        "id": "BzMo-yKNrU-m"
      },
      "execution_count": null,
      "outputs": []
    },
    {
      "cell_type": "markdown",
      "source": [
        "#Exercicio 04"
      ],
      "metadata": {
        "id": "0mDiDBADsIV2"
      }
    },
    {
      "cell_type": "code",
      "source": [
        "num1 = int(input(\"digite um numero \"))\n",
        "\n",
        "result = num1 ** 2\n",
        "print(f\"O quadrado do numero {num1} resultou em: {result}\")"
      ],
      "metadata": {
        "id": "3NrMCVlDsHxw"
      },
      "execution_count": null,
      "outputs": []
    },
    {
      "cell_type": "markdown",
      "source": [
        "#Exercicio 05"
      ],
      "metadata": {
        "id": "SGvtYHqPscX3"
      }
    },
    {
      "cell_type": "code",
      "source": [
        "num1 = int(input(\"digite um numero \"))\n",
        "\n",
        "result = num1 / 5\n",
        "print(f\"A quinta parte  do numero {num1} resultou em: {result}\")"
      ],
      "metadata": {
        "id": "oG-dFJQVsgEe"
      },
      "execution_count": null,
      "outputs": []
    },
    {
      "cell_type": "markdown",
      "source": [
        "#Exercicio 06"
      ],
      "metadata": {
        "id": "4A9QvLvmsrnY"
      }
    },
    {
      "cell_type": "code",
      "source": [
        "# num1 = int(input(\"digite um numero \"))\n",
        "\n",
        "# result = (num1 * 1.8 + 32)\n",
        "# print(f\"A Temperatura em Celsius convertida para Fahrenheit resultou em: {round(result,2)}\" )\n",
        "\n",
        "c = float(input(\"Digte um numero\"))\n",
        "f = c * (9 / 5) + 32 \n",
        "\n",
        "print(f)\n"
      ],
      "metadata": {
        "id": "EfZcI-t4suSW"
      },
      "execution_count": null,
      "outputs": []
    },
    {
      "cell_type": "markdown",
      "source": [
        "#Exercicio 07"
      ],
      "metadata": {
        "id": "sNs5M1M7s3oo"
      }
    },
    {
      "cell_type": "code",
      "source": [
        "num1 = float(input(\"digite um numero \"))\n",
        "\n",
        "result = (num1 - 273.15)\n",
        "print(f\"A Temperatura em Kelvin convertida para Celsius resultou em: {round(result,2)}\")"
      ],
      "metadata": {
        "id": "qLdkPjW-s6w3"
      },
      "execution_count": null,
      "outputs": []
    },
    {
      "cell_type": "markdown",
      "source": [
        "#Exercicio 07 kelvin\n",
        "\n"
      ],
      "metadata": {
        "id": "fUxRqa1ytMGh"
      }
    },
    {
      "cell_type": "code",
      "source": [
        "num1 = int(input(\"digite um numero \"))\n",
        "\n",
        "result = (num1 + 273.15)\n",
        "print(f\"A Temperatura em Celsius convertida para Kelvin resultou em: {round(result,3)}\" )"
      ],
      "metadata": {
        "id": "di2EHeNrtQz2"
      },
      "execution_count": null,
      "outputs": []
    },
    {
      "cell_type": "markdown",
      "source": [
        "#Exercicio 08\n"
      ],
      "metadata": {
        "id": "ZpAfM8lAIgM8"
      }
    },
    {
      "cell_type": "code",
      "source": [],
      "metadata": {
        "id": "3MSykIrSQ-nG"
      },
      "execution_count": null,
      "outputs": []
    },
    {
      "cell_type": "code",
      "source": [
        "import math as mat\n",
        "import fractions\n",
        "#Este módulo fornece acesso às funções matemáticas definidas pelo padrão C.\n",
        "angulo = int(input(\"Digite um angulo \"))\n",
        "\n",
        "radiano = fractions.Fraction((2/360) * angulo).limit_denominator(100)\n",
        "# (2 * mat.pi)/360 * angulo\n",
        "\n",
        "print(f\"A conversão do Angulo {angulo} para Radiano é: {radiano}\")\n",
        "# mat.radians(100)\n"
      ],
      "metadata": {
        "colab": {
          "base_uri": "https://localhost:8080/"
        },
        "id": "Fe3CJEi4Ip6E",
        "outputId": "12c14653-5e43-4943-8318-f0d859eb2b52"
      },
      "execution_count": null,
      "outputs": [
        {
          "output_type": "stream",
          "name": "stdout",
          "text": [
            "Digite um angulo 30\n",
            "A conversão do Angulo 30 para Radiano é: 1/6\n"
          ]
        }
      ]
    },
    {
      "cell_type": "markdown",
      "source": [
        "#Exercicio 09\n",
        "\n",
        "### except ValueError para a validação de erro"
      ],
      "metadata": {
        "id": "ivdlgxpDuWjP"
      }
    },
    {
      "cell_type": "code",
      "source": [
        "\n",
        "# num1 = input(\"digite um numero \")\n",
        "\n",
        "\n",
        "# if type(num1) == str:\n",
        "#   print(\"string\")\n",
        "# else:\n",
        "#   print(f\"A conversão de {num1} em polegadas para centimetro resultou em: {int(num1) * 2.54}\" )\n",
        "#   print(\"Isso não é um numero\")\n",
        "  \n",
        "while True:\n",
        "  try:\n",
        "    x = input(\"Digite uma polegada para ser convertida em centimetro \")\n",
        "    print(f\"A conversão de {x} em polegadas para centimetro resultou em: {float(x) * 2.54}\")\n",
        "    break\n",
        "  except ValueError:\n",
        "    print(\"ops isso não é um numero\")"
      ],
      "metadata": {
        "id": "bOQiiVMvuYhW"
      },
      "execution_count": null,
      "outputs": []
    },
    {
      "cell_type": "markdown",
      "source": [
        "#Exercicio 10"
      ],
      "metadata": {
        "id": "PwnnJ_I1uibX"
      }
    },
    {
      "cell_type": "code",
      "source": [
        "while True:\n",
        "  try:\n",
        "    num1 = int(input(\"digite um numero \"))\n",
        "    num2 = int(input(\"digite um numero \"))\n",
        "    num3 = int(input(\"digite um numero \"))\n",
        "    result1 = num1 ** 2\n",
        "    result2 = num2 ** 2\n",
        "    result3 = num3 ** 2\n",
        "    soma = result1 + result2 + result3\n",
        "    print(f\"A soma de todos os quadrados resultou em: {soma}\")\n",
        "    break\n",
        "  except ValueError:\n",
        "    print(\"Isso não é um numero3\")\n",
        "\n",
        "\n",
        "\n",
        "\n"
      ],
      "metadata": {
        "id": "VG84O4-NulTn"
      },
      "execution_count": null,
      "outputs": []
    },
    {
      "cell_type": "markdown",
      "source": [
        "#Exercicio 11"
      ],
      "metadata": {
        "id": "P8PVFgH2uyJG"
      }
    },
    {
      "cell_type": "code",
      "source": [
        "x = []\n",
        "\n",
        "while True:\n",
        "  try:\n",
        "    for y in range(100):\n",
        "      num1 = float(input(\"digite um numero \"))\n",
        "      if num1 >= 0  and num1 <= 10 :\n",
        "        x.append(num1)\n",
        "      else:\n",
        "        print(\"por favor digite um numero menor do que 10\")\n",
        "      if len(x) == 4:\n",
        "        break\n",
        "    break\n",
        "  except ValueError:\n",
        "      print(\"Digite um numero!\")\n",
        "    \n",
        "\n",
        "print(f\"A media das notas é {sum(x) / 4}\")\n",
        "# print(f\"A média aritmética resultou em: {result}\")\n",
        "\n"
      ],
      "metadata": {
        "id": "JuAZ1cFWu07e"
      },
      "execution_count": null,
      "outputs": []
    },
    {
      "cell_type": "markdown",
      "source": [
        "#Exercicio 12"
      ],
      "metadata": {
        "id": "o_npxzBTvAk3"
      }
    },
    {
      "cell_type": "code",
      "source": [
        "while True:\n",
        "  try:\n",
        "    num1 = int(input(\"digite um numero \"))\n",
        "    print(f\"O número digitado foi {num1} seu antecessor é {num1 - 1} e seu sucessor é {num1 + 1} \")\n",
        "    break\n",
        "  except ValueError:\n",
        "    print(\"isso não é um numero\")\n",
        "\n",
        "\n",
        "\n",
        "# atnNum = num1 - 1\n",
        "# suceNum = num1 + 1 \n",
        "# print(f\"O número digitado foi {num1} seu antecessor é {atnNum} e seu sucessor é {suceNum} \")"
      ],
      "metadata": {
        "id": "IBFWitivvZDQ"
      },
      "execution_count": null,
      "outputs": []
    },
    {
      "cell_type": "markdown",
      "source": [
        "#Exercicio 13"
      ],
      "metadata": {
        "id": "gBclSxmuv4Vm"
      }
    },
    {
      "cell_type": "code",
      "source": [
        "while True: \n",
        "  try:\n",
        "    num1 = int(input(\"digite um numero \"))\n",
        "    numanterior = (num1 + 1) * 3\n",
        "    numsucecessor = (num1 - 1) * 2\n",
        "    print(f\"O resultado da operação é {numanterior + numsucecessor}\")\n",
        "    break\n",
        "  except ValueError:\n",
        "    print(\"Isso não é um numero\")\n",
        "\n",
        "\n"
      ],
      "metadata": {
        "id": "NPVuhLTMv7Id"
      },
      "execution_count": null,
      "outputs": []
    },
    {
      "cell_type": "markdown",
      "source": [
        "#Exercicio 14"
      ],
      "metadata": {
        "id": "TnMrVpO_xiRf"
      }
    },
    {
      "cell_type": "code",
      "source": [
        "while True:\n",
        "  try:\n",
        "    num1 = int(input(\"digite o lado do quadrado \"))\n",
        "    print(f\"A area do quadro é {num1 * num1}\")\n",
        "    break\n",
        "  except ValueError:\n",
        "    print(\"Isso não é um numero\")\n",
        "\n",
        "    \n",
        "\n"
      ],
      "metadata": {
        "id": "muApoeOPxkRG"
      },
      "execution_count": null,
      "outputs": []
    },
    {
      "cell_type": "markdown",
      "source": [
        "#Exercicio 15\n"
      ],
      "metadata": {
        "id": "qtFeHv6Q1vh9"
      }
    },
    {
      "cell_type": "code",
      "source": [
        "while True:\n",
        "  try:\n",
        "    num1 = int(input(\"digite o valor do produto \"))\n",
        "    valorDesconto = (12/100) * (num1)\n",
        "    print(f\"O valor final do produto ficou em {num1 - valorDesconto}\")\n",
        "    break\n",
        "  except ValueError:\n",
        "    print(\"Isso não é um numero\")\n",
        "    \n"
      ],
      "metadata": {
        "id": "PL-JXhaI13mv"
      },
      "execution_count": null,
      "outputs": []
    },
    {
      "cell_type": "markdown",
      "source": [
        "#Exercicio 16"
      ],
      "metadata": {
        "id": "enhsZrfTxzTB"
      }
    },
    {
      "cell_type": "code",
      "source": [
        "while True:\n",
        "  try:\n",
        "    salario = int(input(\"Digite seu salario \"))\n",
        "    salarioAumentado = (25 / 100) * salario\n",
        "    print(f\"O seu novo salario é de {salarioAumentado + salario}\")\n",
        "    break\n",
        "  except ValueError:\n",
        "    print(\"Isso não é numero\")\n",
        "\n",
        "    \n",
        "\n"
      ],
      "metadata": {
        "id": "bDDZu1_xx05n"
      },
      "execution_count": null,
      "outputs": []
    },
    {
      "cell_type": "markdown",
      "source": [
        "#Exercio17\n"
      ],
      "metadata": {
        "id": "y6F5V7kJ1fUe"
      }
    },
    {
      "cell_type": "code",
      "source": [
        "while True:\n",
        "  try:\n",
        "    num1 = int(input(\"digite o valor da hora de trabalho em reais \"))\n",
        "    num2 = int(input(\"digite o numero de horas trabalhadas no mês \"))\n",
        "    valorSerPago = num1 * num2\n",
        "    valorAcrescimo = (10/100) * (valorSerPago)\n",
        "    salarioFinal = valorSerPago + valorAcrescimo\n",
        "    print(f\"O salario final será {salarioFinal}\")\n",
        "    break\n",
        "  except ValueError:\n",
        "    print(\"Isso não é numero\")\n",
        "    \n",
        "\n",
        "\n"
      ],
      "metadata": {
        "id": "uK_6waDr1ize"
      },
      "execution_count": null,
      "outputs": []
    },
    {
      "cell_type": "markdown",
      "source": [
        "#Exercicio 18"
      ],
      "metadata": {
        "id": "h3-vZzU1znUh"
      }
    },
    {
      "cell_type": "code",
      "source": [
        "import datetime\n",
        "\n",
        "while True:\n",
        "  try:\n",
        "    dataAtual = datetime.datetime.now() \n",
        "    idade = int(input(\"Digite sua idade \"))\n",
        "    anoNasc = dataAtual.year - idade\n",
        "    print(f\"O ano do seu nascimento é {anoNasc}\")\n",
        "    break\n",
        "  except ValueError:\n",
        "    print(\"isso não é uma idade\")\n",
        "\n",
        "\n"
      ],
      "metadata": {
        "id": "kTUCVhwEzpO2"
      },
      "execution_count": null,
      "outputs": []
    },
    {
      "cell_type": "markdown",
      "source": [
        "#Exercicio 19\n"
      ],
      "metadata": {
        "id": "q7nCjE68cko-"
      }
    },
    {
      "cell_type": "code",
      "source": [],
      "metadata": {
        "id": "DjA7d9Tbcpfu"
      },
      "execution_count": null,
      "outputs": []
    },
    {
      "cell_type": "markdown",
      "source": [
        "#Exercicio 20\n"
      ],
      "metadata": {
        "id": "uYvS04s22ZGu"
      }
    },
    {
      "cell_type": "code",
      "source": [
        "salarioBase = int(input(\"Digite seu salario base \"))\n",
        "\n",
        "salBaseAumentado = (5 / 100) * salarioBase\n",
        "salarioDesconto = (7/100) * salarioBase\n",
        "\n",
        "print(f\"seu salario atual é de: R$ {(salarioBase + salBaseAumentado) - salarioDesconto}\")\n"
      ],
      "metadata": {
        "id": "935O7b-12cbO"
      },
      "execution_count": null,
      "outputs": []
    },
    {
      "cell_type": "markdown",
      "source": [
        "#Exercicio 21"
      ],
      "metadata": {
        "id": "9jPYd26J5OpV"
      }
    },
    {
      "cell_type": "code",
      "source": [
        "num1 = int(input(\"Digite um numero \"))\n",
        "num2 = int(input(\"Digite outro numero \"))\n",
        "\n",
        "if num1 > num2:\n",
        "    print(num1)\n",
        "else:\n",
        "    print(num2)"
      ],
      "metadata": {
        "id": "wbaDWq0s5Qn9"
      },
      "execution_count": null,
      "outputs": []
    },
    {
      "cell_type": "markdown",
      "source": [
        "#Aula 05\n",
        "  "
      ],
      "metadata": {
        "id": "2IzfE57qDxdX"
      }
    },
    {
      "cell_type": "code",
      "source": [
        "a= 10\n",
        "m = 9.0\n",
        "print(f\"A quantidade de alunos é {a} e a media é {m}\")"
      ],
      "metadata": {
        "id": "jVCAR8jp9RpE"
      },
      "execution_count": null,
      "outputs": []
    },
    {
      "cell_type": "markdown",
      "source": [
        "##Print(f\" \") template string  "
      ],
      "metadata": {
        "id": "oyfhEbGD9_PK"
      }
    },
    {
      "cell_type": "markdown",
      "source": [
        "#Código Base"
      ],
      "metadata": {
        "id": "gpi8RliOCgOL"
      }
    },
    {
      "cell_type": "code",
      "source": [
        "x = 34 - 23 \n",
        "y = \"hello\"\n",
        "z = 3.45\n",
        "if z == 3.45 or y == \"hello\":\n",
        "  x = x + 1\n",
        "  y = y + \" world\"\n",
        "  print(x)\n",
        "  print(y)"
      ],
      "metadata": {
        "id": "0bDd6DWACDow"
      },
      "execution_count": null,
      "outputs": []
    },
    {
      "cell_type": "code",
      "source": [
        "a = 5 \n",
        "b = 6\n",
        "c = 10 \n",
        "\n",
        "print(a + b)\n",
        "print(b - c)\n",
        "print(a * b)\n",
        "print(b / a) # Divisão\n",
        "print(b % a) # Resto da divisão\n",
        "#print(b %% a) = ERRO\n"
      ],
      "metadata": {
        "id": "tWl9wjd2DuPf"
      },
      "execution_count": null,
      "outputs": []
    },
    {
      "cell_type": "markdown",
      "source": [
        "#Aula 06"
      ],
      "metadata": {
        "id": "luF50dUZH0W8"
      }
    },
    {
      "cell_type": "markdown",
      "source": [
        "#Exercicio 22"
      ],
      "metadata": {
        "id": "u_tufcyB9hVf"
      }
    },
    {
      "cell_type": "code",
      "source": [
        "numero = int(input(\"Digite um numero \"))\n",
        "\n",
        "if numero > 0:\n",
        "    print(numero ** 2)\n",
        "else:\n",
        "    print(f\"Esse numero {numero} é invalido\")"
      ],
      "metadata": {
        "id": "7iZTiNtd9j4P"
      },
      "execution_count": null,
      "outputs": []
    },
    {
      "cell_type": "markdown",
      "source": [
        "#Exercicio 23"
      ],
      "metadata": {
        "id": "QkOBZ-R__fXc"
      }
    },
    {
      "cell_type": "code",
      "source": [
        "numeroReal = float(input(\"Digite um numero \"))\n",
        "\n",
        "if numeroReal > 0:\n",
        "  print(numeroReal ** 2)\n",
        "else:\n",
        "  print(numeroReal ** 4)\n"
      ],
      "metadata": {
        "id": "F8M4bJrg_i07"
      },
      "execution_count": null,
      "outputs": []
    },
    {
      "cell_type": "markdown",
      "source": [
        "#Exercicio 24"
      ],
      "metadata": {
        "id": "sB12C_fKICxp"
      }
    },
    {
      "cell_type": "code",
      "source": [
        "while True:\n",
        "  try:\n",
        "    x = input(\"Digite um numero \")\n",
        "    if int(x) % 2 == 0:\n",
        "      print(\"Numero Par\")\n",
        "    else:\n",
        "      print(\"Numero impar\")   \n",
        "    break\n",
        "  except ValueError:\n",
        "    print(\"ops isso não é um numero \")"
      ],
      "metadata": {
        "id": "Y6WVbt6WIIFG"
      },
      "execution_count": null,
      "outputs": []
    },
    {
      "cell_type": "markdown",
      "source": [
        "#Exercicio 25"
      ],
      "metadata": {
        "id": "LVmZ7exSJsMf"
      }
    },
    {
      "cell_type": "code",
      "source": [
        "# x = input(\"Digite um numero \")\n",
        "# y = input(\"Digite um numero \")\n",
        "\n",
        "# if x > y:\n",
        "#   print(f\"{x} maior que {y}\")\n",
        "# elif y > x:\n",
        "#   print(f\"{y} maior que {x}\")  \n",
        "# elif x == y:\n",
        "#   print(f\"Você digitou dois numeros iguais\")\n",
        "\n",
        "while True:\n",
        "  try:\n",
        "    x = input(\"Digite um numero\")\n",
        "    y = input(\"Digite um numero\")\n",
        "    if int(x) > int(y):\n",
        "      print(f\"{x} maior que {y}\")\n",
        "    elif int(y) > int(x):\n",
        "      print(f\"{y} maior que {x}\")\n",
        "    elif int(x) == int(y):\n",
        "      print(f\"Você digitou dois numeros iguais\")\n",
        "    break\n",
        "  except ValueError:\n",
        "    print(\"isso não é um numero\")\n",
        "\n",
        "\n",
        "\n",
        "\n",
        "\n"
      ],
      "metadata": {
        "id": "yOr_rzCbJuxf"
      },
      "execution_count": null,
      "outputs": []
    }
  ]
}